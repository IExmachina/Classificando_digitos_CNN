{
  "nbformat": 4,
  "nbformat_minor": 0,
  "metadata": {
    "colab": {
      "name": "Classificando_digitos_CNN.ipynb",
      "provenance": []
    },
    "kernelspec": {
      "name": "python3",
      "display_name": "Python 3"
    },
    "language_info": {
      "name": "python"
    }
  },
  "cells": [
    {
      "cell_type": "code",
      "metadata": {
        "id": "VE9rRgtiPweo"
      },
      "source": [
        "# importações\n",
        "import tensorflow\n",
        "from tensorflow.keras.datasets import mnist\n",
        "from tensorflow.keras.models import Sequential\n",
        "from tensorflow.keras.layers import Dense, Flatten, Conv2D, MaxPooling2D\n",
        "from keras.utils import np_utils"
      ],
      "execution_count": 22,
      "outputs": []
    },
    {
      "cell_type": "markdown",
      "metadata": {
        "id": "HyquE0O7Yq4o"
      },
      "source": [
        "# Coletando e preparando os dados\n",
        "Vamos usar um dataset já pronto do keras, são imagens de numeros de 1 a 10."
      ]
    },
    {
      "cell_type": "code",
      "metadata": {
        "colab": {
          "base_uri": "https://localhost:8080/",
          "height": 334
        },
        "id": "a7Oy49yjQD_A",
        "outputId": "807119bb-5ac5-430e-a96a-eab19ebab0b8"
      },
      "source": [
        "# Coletando os dados da biblioteca do keras.\n",
        "(X_treinamento, y_treinamento), (X_teste, y_teste) = mnist.load_data()\n",
        "\n",
        "# Deixado as imagens em escala 1, ou seja, em cinza. \n",
        "# Imagens em colorido aumentam muito o tempo de processamento e neste caso não é necessario as cores.\n",
        "plt.imshow(X_treinamento[0], cmap = 'gray')\n",
        "plt.title('Classe ' + str(y_treinamento[0]))\n",
        "\n",
        "# Colocando os dados no formato do tensorflow\n",
        "previsores_treinamento = X_treinamento.reshape(X_treinamento.shape[0],\n",
        "                                               28, 28, 1) # o 1 aqui é a escala de cor, no caso 1 é cinza. 3 seria RGB(colorido).\n",
        "previsores_teste = X_teste.reshape(X_teste.shape[0], 28, 28, 1)\n",
        "\n",
        "# Transformando o tipo dos dados para float32 para o proximo processamento.\n",
        "previsores_treinamento = previsores_treinamento.astype('float32')\n",
        "previsores_teste = previsores_teste.astype('float32')\n",
        "\n",
        "# Aqui estamos transformando os dados para que fiquem na escala entre zero e um.\n",
        "previsores_treinamento /= 255\n",
        "previsores_teste /= 255\n",
        "\n",
        "# Aplicando o onehotencoding através do np_utils, nas classes.\n",
        "classe_treinamento = np_utils.to_categorical(y_treinamento, 10)\n",
        "classe_teste = np_utils.to_categorical(y_teste, 10)"
      ],
      "execution_count": 6,
      "outputs": [
        {
          "output_type": "stream",
          "name": "stdout",
          "text": [
            "Downloading data from https://storage.googleapis.com/tensorflow/tf-keras-datasets/mnist.npz\n",
            "11493376/11490434 [==============================] - 0s 0us/step\n",
            "11501568/11490434 [==============================] - 0s 0us/step\n"
          ]
        },
        {
          "output_type": "display_data",
          "data": {
            "image/png": "[encoded data removed]",
            "text/plain": [
              "<Figure size 432x288 with 1 Axes>"
            ]
          },
          "metadata": {
            "needs_background": "light"
          }
        }
      ]
    },
    {
      "cell_type": "markdown",
      "metadata": {
        "id": "BDZ9TDBSY2Mq"
      },
      "source": [
        "# Criando a Rede Neural Convolucional"
      ]
    },
    {
      "cell_type": "code",
      "metadata": {
        "id": "t-QQ-M1BR05N"
      },
      "source": [
        "# Criando o classificador\n",
        "classificador = Sequential()\n",
        "# Aplicando as etapas de preprocessamento para redes convolucionais.\n",
        "# Etapa 1: Operador de convolução.\n",
        "classificador.add(Conv2D(32, (3,3), input_shape=(28, 28, 1), activation = 'relu'))\n",
        "# Etapa 2: Função Polling, no caso vamos ultilizar a max.\n",
        "classificador.add(MaxPooling2D(pool_size = (2,2)))\n",
        "# Etapa 3: Flatenning, que é transformar os dados de matriz para vetor.\n",
        "classificador.add(Flatten())"
      ],
      "execution_count": 7,
      "outputs": []
    },
    {
      "cell_type": "code",
      "metadata": {
        "id": "L3iUdz63Sf8x"
      },
      "source": [
        "# Criando a rede neural\n",
        "classificador.add(Dense(units = 128, activation = 'relu'))\n",
        "classificador.add(Dense(units = 10, activation = 'softmax'))\n",
        "classificador.compile(loss = 'categorical_crossentropy',\n",
        "                      optimizer = 'adam', metrics = ['accuracy'])"
      ],
      "execution_count": 8,
      "outputs": []
    },
    {
      "cell_type": "markdown",
      "metadata": {
        "id": "O0CesGbUY9bT"
      },
      "source": [
        "# Treinando e avaliando a rede."
      ]
    },
    {
      "cell_type": "code",
      "metadata": {
        "colab": {
          "base_uri": "https://localhost:8080/"
        },
        "id": "2cntPWOYSphZ",
        "outputId": "b41c2628-5179-4190-f3ed-3b4b44214911"
      },
      "source": [
        "# Treinando a rede convolucional\n",
        "classificador.fit(previsores_treinamento, classe_treinamento,\n",
        "                  batch_size = 128, epochs = 5,\n",
        "                  validation_data = (previsores_teste, classe_teste))  # somente 5 epocas para não demorar muito.\n",
        "                  # Usando o parametro validation data para mostrar o accuracy nos dados de teste ao mesmo tempo que treina."
      ],
      "execution_count": 14,
      "outputs": [
        {
          "output_type": "stream",
          "name": "stdout",
          "text": [
            "Epoch 1/5\n",
            "469/469 [==============================] - 28s 59ms/step - loss: 0.0167 - accuracy: 0.9951 - val_loss: 0.0454 - val_accuracy: 0.9853\n",
            "Epoch 2/5\n",
            "469/469 [==============================] - 28s 59ms/step - loss: 0.0133 - accuracy: 0.9959 - val_loss: 0.0426 - val_accuracy: 0.9864\n",
            "Epoch 3/5\n",
            "469/469 [==============================] - 28s 60ms/step - loss: 0.0105 - accuracy: 0.9967 - val_loss: 0.0525 - val_accuracy: 0.9850\n",
            "Epoch 4/5\n",
            "469/469 [==============================] - 28s 60ms/step - loss: 0.0072 - accuracy: 0.9981 - val_loss: 0.0485 - val_accuracy: 0.9856\n",
            "Epoch 5/5\n",
            "469/469 [==============================] - 28s 60ms/step - loss: 0.0059 - accuracy: 0.9983 - val_loss: 0.0457 - val_accuracy: 0.9864\n"
          ]
        },
        {
          "output_type": "execute_result",
          "data": {
            "text/plain": [
              "<keras.callbacks.History at 0x7f0e9114fb10>"
            ]
          },
          "metadata": {},
          "execution_count": 14
        }
      ]
    },
    {
      "cell_type": "code",
      "metadata": {
        "colab": {
          "base_uri": "https://localhost:8080/"
        },
        "id": "Uycv92fxUJ_q",
        "outputId": "0273cbf0-c5d9-4d19-86c7-364935024353"
      },
      "source": [
        "resultado = classificador.evaluate(previsores_teste, classe_teste)"
      ],
      "execution_count": 12,
      "outputs": [
        {
          "output_type": "stream",
          "name": "stdout",
          "text": [
            "313/313 [==============================] - 2s 7ms/step - loss: 0.0458 - accuracy: 0.9851\n"
          ]
        }
      ]
    },
    {
      "cell_type": "code",
      "metadata": {
        "colab": {
          "base_uri": "https://localhost:8080/"
        },
        "id": "94CH2jDMXElo",
        "outputId": "b19b5a52-11d0-4740-95e7-c83e4eccca67"
      },
      "source": [
        "resultado"
      ],
      "execution_count": 13,
      "outputs": [
        {
          "output_type": "execute_result",
          "data": {
            "text/plain": [
              "[0.045815788209438324, 0.9850999712944031]"
            ]
          },
          "metadata": {},
          "execution_count": 13
        }
      ]
    },
    {
      "cell_type": "markdown",
      "metadata": {
        "id": "MDXz3xmSZB6S"
      },
      "source": [
        "# Melhorando os resultados\n",
        "Vamos adicionar camadas e funçoes.\n",
        "Apesar de não precisar pois nossos dados são simples, num probelma mais complexo seria muito necessario melhorar a rede."
      ]
    },
    {
      "cell_type": "code",
      "metadata": {
        "colab": {
          "base_uri": "https://localhost:8080/"
        },
        "id": "G87LFOyUZSu7",
        "outputId": "9b594332-bd61-4ba3-f58b-61dad6158626"
      },
      "source": [
        "\n",
        "classificador = Sequential()\n",
        "classificador.add(Conv2D(32, (3,3), \n",
        "                         input_shape=(28, 28, 1),\n",
        "                         activation = 'relu'))\n",
        "classificador.add(BatchNormalization())         # normalizamos os dados antes da camada de convolução.\n",
        "# agora estamos normalizando após tbm, onde o feature map vai estar normalizado tbm, fazendo com que o processamento seja mais rapido;\n",
        "classificador.add(MaxPooling2D(pool_size = (2,2)))\n",
        "#classificador.add(Flatten()) O flatten só entra apos a ultima camada convulucional. Ou seja, so uma vez no final.\n",
        "\n",
        "# Mais uma camada convolucional.\n",
        "classificador.add(Conv2D(32, (3,3), activation = 'relu'))\n",
        "classificador.add(BatchNormalization())\n",
        "classificador.add(MaxPooling2D(pool_size = (2,2)))\n",
        "\n",
        "classificador.add(Flatten())\n",
        "\n",
        "classificador.add(Dense(units = 128, activation = 'relu'))\n",
        "classificador.add(Dropout(0.2))   # Adicionando o dropout pra evitar overfiting, mas as vez tbm pode aumentar o accuracy.\n",
        "classificador.add(Dense(units = 128, activation = 'relu'))\n",
        "classificador.add(Dropout(0.2))\n",
        "classificador.add(Dense(units = 10, \n",
        "                        activation = 'softmax'))\n",
        "classificador.compile(loss = 'categorical_crossentropy',\n",
        "                      optimizer = 'adam', metrics = ['accuracy'])\n",
        "classificador.fit(previsores_treinamento, classe_treinamento,\n",
        "                  batch_size = 128, epochs = 5,\n",
        "                  validation_data = (previsores_teste, classe_teste))"
      ],
      "execution_count": 23,
      "outputs": [
        {
          "output_type": "stream",
          "name": "stdout",
          "text": [
            "Epoch 1/5\n",
            "469/469 [==============================] - 57s 120ms/step - loss: 0.2021 - accuracy: 0.9381 - val_loss: 0.1525 - val_accuracy: 0.9592\n",
            "Epoch 2/5\n",
            "469/469 [==============================] - 55s 118ms/step - loss: 0.0607 - accuracy: 0.9821 - val_loss: 0.0449 - val_accuracy: 0.9868\n",
            "Epoch 3/5\n",
            "469/469 [==============================] - 64s 137ms/step - loss: 0.0439 - accuracy: 0.9869 - val_loss: 0.0412 - val_accuracy: 0.9878\n",
            "Epoch 4/5\n",
            "469/469 [==============================] - 55s 118ms/step - loss: 0.0341 - accuracy: 0.9897 - val_loss: 0.0334 - val_accuracy: 0.9905\n",
            "Epoch 5/5\n",
            "469/469 [==============================] - 55s 118ms/step - loss: 0.0284 - accuracy: 0.9914 - val_loss: 0.0334 - val_accuracy: 0.9905\n"
          ]
        },
        {
          "output_type": "execute_result",
          "data": {
            "text/plain": [
              "<keras.callbacks.History at 0x7f0e8f0ea0d0>"
            ]
          },
          "metadata": {},
          "execution_count": 23
        }
      ]
    },
    {
      "cell_type": "code",
      "metadata": {
        "colab": {
          "base_uri": "https://localhost:8080/"
        },
        "id": "vnnH18Z8cCpe",
        "outputId": "a8c80156-417c-4f00-c58b-30fedeb2c333"
      },
      "source": [
        "resultado = classificador.evaluate(previsores_teste, classe_teste)\n",
        "# Aumentamos para 99% de accuracy!"
      ],
      "execution_count": 24,
      "outputs": [
        {
          "output_type": "stream",
          "name": "stdout",
          "text": [
            "313/313 [==============================] - 3s 10ms/step - loss: 0.0334 - accuracy: 0.9905\n"
          ]
        }
      ]
    },
    {
      "cell_type": "markdown",
      "metadata": {
        "id": "IHY5cKGdvCjb"
      },
      "source": [
        "# Testando com uma imagem"
      ]
    },
    {
      "cell_type": "code",
      "metadata": {
        "colab": {
          "base_uri": "https://localhost:8080/",
          "height": 298
        },
        "id": "4d3JMEdDvF0_",
        "outputId": "1f4679dc-b78a-4252-c40a-eabc1a71ac4e"
      },
      "source": [
        "# Nesse exemplo escolhi a primeira imagem da base de teste e abaixo você\n",
        "# pode visualizar que trata-se do número 7\n",
        "plt.imshow(X_teste[0], cmap = 'gray')\n",
        "plt.title('Classe ' + str(y_teste[0]))"
      ],
      "execution_count": 25,
      "outputs": [
        {
          "output_type": "execute_result",
          "data": {
            "text/plain": [
              "Text(0.5, 1.0, 'Classe 7')"
            ]
          },
          "metadata": {},
          "execution_count": 25
        },
        {
          "output_type": "display_data",
          "data": {
            "image/png": "[encoded data removed]",
            "text/plain": [
              "<Figure size 432x288 with 1 Axes>"
            ]
          },
          "metadata": {
            "needs_background": "light"
          }
        }
      ]
    },
    {
      "cell_type": "code",
      "metadata": {
        "id": "gbMmXJOnvJaL"
      },
      "source": [
        "# Criamos uma única variável que armazenará a imagem a ser classificada e\n",
        "# também fazemos a transformação na dimensão para o tensorflow processar\n",
        "imagem_teste = X_teste[0].reshape(1, 28, 28, 1)"
      ],
      "execution_count": 26,
      "outputs": []
    },
    {
      "cell_type": "code",
      "metadata": {
        "id": "A-4fNoQgvLrl"
      },
      "source": [
        "# Convertermos para float para em seguida podermos aplicar a normalização\n",
        "imagem_teste = imagem_teste.astype('float32')\n",
        "imagem_teste /= 255"
      ],
      "execution_count": 27,
      "outputs": []
    },
    {
      "cell_type": "code",
      "metadata": {
        "id": "YWcQDfdUvNS5"
      },
      "source": [
        "# Fazemos a previsão, passando como parâmetro a imagem\n",
        "# Como temos um problema multiclasse e a função de ativação softmax, será\n",
        "# gerada uma probabilidade para cada uma das classes. A variável previsão\n",
        "# terá a dimensão 1, 10 (uma linha e dez colunas), sendo que em cada coluna\n",
        "# estará o valor de probabilidade de cada classe\n",
        "previsoes = classificador.predict(imagem_teste)"
      ],
      "execution_count": 28,
      "outputs": []
    },
    {
      "cell_type": "code",
      "metadata": {
        "id": "MtUCydAGvPD-"
      },
      "source": [
        "\n",
        "# Como cada índice do vetor representa um número entre 0 e 9, basta agora\n",
        "# buscarmos qual é o maior índice e o retornarmos. Executando o código abaixo\n",
        "# você terá o índice 7 que representa a classe 7\n",
        "import numpy as np\n",
        "resultado = np.argmax(previsoes)"
      ],
      "execution_count": 29,
      "outputs": []
    },
    {
      "cell_type": "code",
      "metadata": {
        "colab": {
          "base_uri": "https://localhost:8080/"
        },
        "id": "uWPuMoNRvW7c",
        "outputId": "5ab94af3-4c6d-460f-800b-9cf8a0364c08"
      },
      "source": [
        "resultado"
      ],
      "execution_count": 30,
      "outputs": [
        {
          "output_type": "execute_result",
          "data": {
            "text/plain": [
              "7"
            ]
          },
          "metadata": {},
          "execution_count": 30
        }
      ]
    }
  ]
}